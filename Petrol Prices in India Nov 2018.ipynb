{
 "cells": [
  {
   "cell_type": "code",
   "execution_count": 1,
   "metadata": {},
   "outputs": [],
   "source": [
    "import numpy as np\n",
    "import pandas as pd\n",
    "import matplotlib.pyplot as plt\n",
    "%matplotlib inline"
   ]
  },
  {
   "cell_type": "code",
   "execution_count": 2,
   "metadata": {},
   "outputs": [],
   "source": [
    "df = pd.read_csv(\"F:/ML Data Files/Petrol Prices in India New.csv\", index_col='Date')"
   ]
  },
  {
   "cell_type": "code",
   "execution_count": 3,
   "metadata": {},
   "outputs": [
    {
     "data": {
      "text/html": [
       "<div>\n",
       "<style scoped>\n",
       "    .dataframe tbody tr th:only-of-type {\n",
       "        vertical-align: middle;\n",
       "    }\n",
       "\n",
       "    .dataframe tbody tr th {\n",
       "        vertical-align: top;\n",
       "    }\n",
       "\n",
       "    .dataframe thead th {\n",
       "        text-align: right;\n",
       "    }\n",
       "</style>\n",
       "<table border=\"1\" class=\"dataframe\">\n",
       "  <thead>\n",
       "    <tr style=\"text-align: right;\">\n",
       "      <th></th>\n",
       "      <th>NYMEX Crude Oil</th>\n",
       "      <th>MCX Crude Oil</th>\n",
       "      <th>USDINR</th>\n",
       "      <th>Delhi</th>\n",
       "      <th>Mumbai</th>\n",
       "      <th>Chenni</th>\n",
       "      <th>Kolkata</th>\n",
       "    </tr>\n",
       "    <tr>\n",
       "      <th>Date</th>\n",
       "      <th></th>\n",
       "      <th></th>\n",
       "      <th></th>\n",
       "      <th></th>\n",
       "      <th></th>\n",
       "      <th></th>\n",
       "      <th></th>\n",
       "    </tr>\n",
       "  </thead>\n",
       "  <tbody>\n",
       "    <tr>\n",
       "      <th>6/16/2017</th>\n",
       "      <td>44.94</td>\n",
       "      <td>2879</td>\n",
       "      <td>64.5200</td>\n",
       "      <td>65.48</td>\n",
       "      <td>76.70</td>\n",
       "      <td>68.02</td>\n",
       "      <td>68.03</td>\n",
       "    </tr>\n",
       "    <tr>\n",
       "      <th>6/17/2017</th>\n",
       "      <td>44.94</td>\n",
       "      <td>2879</td>\n",
       "      <td>64.5200</td>\n",
       "      <td>65.23</td>\n",
       "      <td>76.46</td>\n",
       "      <td>67.76</td>\n",
       "      <td>67.84</td>\n",
       "    </tr>\n",
       "    <tr>\n",
       "      <th>6/18/2017</th>\n",
       "      <td>44.94</td>\n",
       "      <td>2879</td>\n",
       "      <td>64.5200</td>\n",
       "      <td>64.91</td>\n",
       "      <td>76.14</td>\n",
       "      <td>67.42</td>\n",
       "      <td>67.58</td>\n",
       "    </tr>\n",
       "    <tr>\n",
       "      <th>6/19/2017</th>\n",
       "      <td>44.38</td>\n",
       "      <td>2861</td>\n",
       "      <td>64.4975</td>\n",
       "      <td>64.65</td>\n",
       "      <td>75.88</td>\n",
       "      <td>67.14</td>\n",
       "      <td>67.37</td>\n",
       "    </tr>\n",
       "    <tr>\n",
       "      <th>6/20/2017</th>\n",
       "      <td>43.49</td>\n",
       "      <td>2813</td>\n",
       "      <td>64.5650</td>\n",
       "      <td>64.55</td>\n",
       "      <td>75.78</td>\n",
       "      <td>67.04</td>\n",
       "      <td>67.30</td>\n",
       "    </tr>\n",
       "  </tbody>\n",
       "</table>\n",
       "</div>"
      ],
      "text/plain": [
       "           NYMEX Crude Oil  MCX Crude Oil   USDINR  Delhi  Mumbai  Chenni  \\\n",
       "Date                                                                        \n",
       "6/16/2017            44.94           2879  64.5200  65.48   76.70   68.02   \n",
       "6/17/2017            44.94           2879  64.5200  65.23   76.46   67.76   \n",
       "6/18/2017            44.94           2879  64.5200  64.91   76.14   67.42   \n",
       "6/19/2017            44.38           2861  64.4975  64.65   75.88   67.14   \n",
       "6/20/2017            43.49           2813  64.5650  64.55   75.78   67.04   \n",
       "\n",
       "           Kolkata  \n",
       "Date                \n",
       "6/16/2017    68.03  \n",
       "6/17/2017    67.84  \n",
       "6/18/2017    67.58  \n",
       "6/19/2017    67.37  \n",
       "6/20/2017    67.30  "
      ]
     },
     "execution_count": 3,
     "metadata": {},
     "output_type": "execute_result"
    }
   ],
   "source": [
    "df.head()"
   ]
  },
  {
   "cell_type": "code",
   "execution_count": 4,
   "metadata": {},
   "outputs": [
    {
     "data": {
      "text/html": [
       "<div>\n",
       "<style scoped>\n",
       "    .dataframe tbody tr th:only-of-type {\n",
       "        vertical-align: middle;\n",
       "    }\n",
       "\n",
       "    .dataframe tbody tr th {\n",
       "        vertical-align: top;\n",
       "    }\n",
       "\n",
       "    .dataframe thead th {\n",
       "        text-align: right;\n",
       "    }\n",
       "</style>\n",
       "<table border=\"1\" class=\"dataframe\">\n",
       "  <thead>\n",
       "    <tr style=\"text-align: right;\">\n",
       "      <th></th>\n",
       "      <th>NYMEX Crude Oil</th>\n",
       "      <th>MCX Crude Oil</th>\n",
       "      <th>USDINR</th>\n",
       "      <th>Delhi</th>\n",
       "      <th>Mumbai</th>\n",
       "      <th>Chenni</th>\n",
       "      <th>Kolkata</th>\n",
       "    </tr>\n",
       "    <tr>\n",
       "      <th>Date</th>\n",
       "      <th></th>\n",
       "      <th></th>\n",
       "      <th></th>\n",
       "      <th></th>\n",
       "      <th></th>\n",
       "      <th></th>\n",
       "      <th></th>\n",
       "    </tr>\n",
       "  </thead>\n",
       "  <tbody>\n",
       "    <tr>\n",
       "      <th>11/09/2018</th>\n",
       "      <td>60.17</td>\n",
       "      <td>4431</td>\n",
       "      <td>72.6425</td>\n",
       "      <td>78.06</td>\n",
       "      <td>83.57</td>\n",
       "      <td>81.08</td>\n",
       "      <td>79.98</td>\n",
       "    </tr>\n",
       "    <tr>\n",
       "      <th>11/10/2018</th>\n",
       "      <td>60.17</td>\n",
       "      <td>4431</td>\n",
       "      <td>72.6425</td>\n",
       "      <td>77.89</td>\n",
       "      <td>83.40</td>\n",
       "      <td>80.90</td>\n",
       "      <td>79.81</td>\n",
       "    </tr>\n",
       "    <tr>\n",
       "      <th>11/11/2018</th>\n",
       "      <td>60.17</td>\n",
       "      <td>4431</td>\n",
       "      <td>72.6425</td>\n",
       "      <td>77.73</td>\n",
       "      <td>83.24</td>\n",
       "      <td>80.73</td>\n",
       "      <td>79.65</td>\n",
       "    </tr>\n",
       "    <tr>\n",
       "      <th>11/12/2018</th>\n",
       "      <td>60.20</td>\n",
       "      <td>4362</td>\n",
       "      <td>72.9225</td>\n",
       "      <td>77.56</td>\n",
       "      <td>83.07</td>\n",
       "      <td>80.56</td>\n",
       "      <td>79.49</td>\n",
       "    </tr>\n",
       "    <tr>\n",
       "      <th>11/13/2018</th>\n",
       "      <td>56.20</td>\n",
       "      <td>4403</td>\n",
       "      <td>72.7725</td>\n",
       "      <td>77.43</td>\n",
       "      <td>82.94</td>\n",
       "      <td>80.42</td>\n",
       "      <td>79.36</td>\n",
       "    </tr>\n",
       "  </tbody>\n",
       "</table>\n",
       "</div>"
      ],
      "text/plain": [
       "            NYMEX Crude Oil  MCX Crude Oil   USDINR  Delhi  Mumbai  Chenni  \\\n",
       "Date                                                                         \n",
       "11/09/2018            60.17           4431  72.6425  78.06   83.57   81.08   \n",
       "11/10/2018            60.17           4431  72.6425  77.89   83.40   80.90   \n",
       "11/11/2018            60.17           4431  72.6425  77.73   83.24   80.73   \n",
       "11/12/2018            60.20           4362  72.9225  77.56   83.07   80.56   \n",
       "11/13/2018            56.20           4403  72.7725  77.43   82.94   80.42   \n",
       "\n",
       "            Kolkata  \n",
       "Date                 \n",
       "11/09/2018    79.98  \n",
       "11/10/2018    79.81  \n",
       "11/11/2018    79.65  \n",
       "11/12/2018    79.49  \n",
       "11/13/2018    79.36  "
      ]
     },
     "execution_count": 4,
     "metadata": {},
     "output_type": "execute_result"
    }
   ],
   "source": [
    "df.tail()"
   ]
  },
  {
   "cell_type": "code",
   "execution_count": 5,
   "metadata": {},
   "outputs": [
    {
     "data": {
      "text/plain": [
       "(516, 7)"
      ]
     },
     "execution_count": 5,
     "metadata": {},
     "output_type": "execute_result"
    }
   ],
   "source": [
    "df.shape"
   ]
  },
  {
   "cell_type": "code",
   "execution_count": 6,
   "metadata": {},
   "outputs": [
    {
     "name": "stdout",
     "output_type": "stream",
     "text": [
      "<class 'pandas.core.frame.DataFrame'>\n",
      "Index: 516 entries, 6/16/2017 to 11/13/2018\n",
      "Data columns (total 7 columns):\n",
      "NYMEX Crude Oil    516 non-null float64\n",
      "MCX Crude Oil      516 non-null int64\n",
      "USDINR             516 non-null float64\n",
      "Delhi              516 non-null float64\n",
      "Mumbai             516 non-null float64\n",
      "Chenni             516 non-null float64\n",
      "Kolkata            516 non-null float64\n",
      "dtypes: float64(6), int64(1)\n",
      "memory usage: 32.2+ KB\n"
     ]
    }
   ],
   "source": [
    "df.info()"
   ]
  },
  {
   "cell_type": "code",
   "execution_count": 7,
   "metadata": {},
   "outputs": [
    {
     "data": {
      "text/plain": [
       "Index(['NYMEX Crude Oil', 'MCX Crude Oil', 'USDINR', 'Delhi', 'Mumbai',\n",
       "       'Chenni', 'Kolkata'],\n",
       "      dtype='object')"
      ]
     },
     "execution_count": 7,
     "metadata": {},
     "output_type": "execute_result"
    }
   ],
   "source": [
    "df.columns"
   ]
  },
  {
   "cell_type": "code",
   "execution_count": 8,
   "metadata": {},
   "outputs": [],
   "source": [
    "import datetime"
   ]
  },
  {
   "cell_type": "code",
   "execution_count": 9,
   "metadata": {},
   "outputs": [
    {
     "data": {
      "text/plain": [
       "NYMEX Crude Oil    float64\n",
       "MCX Crude Oil        int64\n",
       "USDINR             float64\n",
       "Delhi              float64\n",
       "Mumbai             float64\n",
       "Chenni             float64\n",
       "Kolkata            float64\n",
       "dtype: object"
      ]
     },
     "execution_count": 9,
     "metadata": {},
     "output_type": "execute_result"
    }
   ],
   "source": [
    "df.dtypes"
   ]
  },
  {
   "cell_type": "code",
   "execution_count": 10,
   "metadata": {},
   "outputs": [],
   "source": [
    "df1 = pd.DataFrame(df)"
   ]
  },
  {
   "cell_type": "code",
   "execution_count": 11,
   "metadata": {},
   "outputs": [],
   "source": [
    "df1.index = pd.to_datetime(df1.index)"
   ]
  },
  {
   "cell_type": "code",
   "execution_count": 12,
   "metadata": {},
   "outputs": [
    {
     "data": {
      "text/html": [
       "<div>\n",
       "<style scoped>\n",
       "    .dataframe tbody tr th:only-of-type {\n",
       "        vertical-align: middle;\n",
       "    }\n",
       "\n",
       "    .dataframe tbody tr th {\n",
       "        vertical-align: top;\n",
       "    }\n",
       "\n",
       "    .dataframe thead th {\n",
       "        text-align: right;\n",
       "    }\n",
       "</style>\n",
       "<table border=\"1\" class=\"dataframe\">\n",
       "  <thead>\n",
       "    <tr style=\"text-align: right;\">\n",
       "      <th></th>\n",
       "      <th>NYMEX Crude Oil</th>\n",
       "      <th>MCX Crude Oil</th>\n",
       "      <th>USDINR</th>\n",
       "      <th>Delhi</th>\n",
       "      <th>Mumbai</th>\n",
       "      <th>Chenni</th>\n",
       "      <th>Kolkata</th>\n",
       "    </tr>\n",
       "    <tr>\n",
       "      <th>Date</th>\n",
       "      <th></th>\n",
       "      <th></th>\n",
       "      <th></th>\n",
       "      <th></th>\n",
       "      <th></th>\n",
       "      <th></th>\n",
       "      <th></th>\n",
       "    </tr>\n",
       "  </thead>\n",
       "  <tbody>\n",
       "    <tr>\n",
       "      <th>2017-06-16</th>\n",
       "      <td>44.94</td>\n",
       "      <td>2879</td>\n",
       "      <td>64.5200</td>\n",
       "      <td>65.48</td>\n",
       "      <td>76.70</td>\n",
       "      <td>68.02</td>\n",
       "      <td>68.03</td>\n",
       "    </tr>\n",
       "    <tr>\n",
       "      <th>2017-06-17</th>\n",
       "      <td>44.94</td>\n",
       "      <td>2879</td>\n",
       "      <td>64.5200</td>\n",
       "      <td>65.23</td>\n",
       "      <td>76.46</td>\n",
       "      <td>67.76</td>\n",
       "      <td>67.84</td>\n",
       "    </tr>\n",
       "    <tr>\n",
       "      <th>2017-06-18</th>\n",
       "      <td>44.94</td>\n",
       "      <td>2879</td>\n",
       "      <td>64.5200</td>\n",
       "      <td>64.91</td>\n",
       "      <td>76.14</td>\n",
       "      <td>67.42</td>\n",
       "      <td>67.58</td>\n",
       "    </tr>\n",
       "    <tr>\n",
       "      <th>2017-06-19</th>\n",
       "      <td>44.38</td>\n",
       "      <td>2861</td>\n",
       "      <td>64.4975</td>\n",
       "      <td>64.65</td>\n",
       "      <td>75.88</td>\n",
       "      <td>67.14</td>\n",
       "      <td>67.37</td>\n",
       "    </tr>\n",
       "    <tr>\n",
       "      <th>2017-06-20</th>\n",
       "      <td>43.49</td>\n",
       "      <td>2813</td>\n",
       "      <td>64.5650</td>\n",
       "      <td>64.55</td>\n",
       "      <td>75.78</td>\n",
       "      <td>67.04</td>\n",
       "      <td>67.30</td>\n",
       "    </tr>\n",
       "  </tbody>\n",
       "</table>\n",
       "</div>"
      ],
      "text/plain": [
       "            NYMEX Crude Oil  MCX Crude Oil   USDINR  Delhi  Mumbai  Chenni  \\\n",
       "Date                                                                         \n",
       "2017-06-16            44.94           2879  64.5200  65.48   76.70   68.02   \n",
       "2017-06-17            44.94           2879  64.5200  65.23   76.46   67.76   \n",
       "2017-06-18            44.94           2879  64.5200  64.91   76.14   67.42   \n",
       "2017-06-19            44.38           2861  64.4975  64.65   75.88   67.14   \n",
       "2017-06-20            43.49           2813  64.5650  64.55   75.78   67.04   \n",
       "\n",
       "            Kolkata  \n",
       "Date                 \n",
       "2017-06-16    68.03  \n",
       "2017-06-17    67.84  \n",
       "2017-06-18    67.58  \n",
       "2017-06-19    67.37  \n",
       "2017-06-20    67.30  "
      ]
     },
     "execution_count": 12,
     "metadata": {},
     "output_type": "execute_result"
    }
   ],
   "source": [
    "df1.head()"
   ]
  },
  {
   "cell_type": "code",
   "execution_count": 13,
   "metadata": {
    "scrolled": false
   },
   "outputs": [
    {
     "data": {
      "text/plain": [
       "<matplotlib.legend.Legend at 0x246f77d27f0>"
      ]
     },
     "execution_count": 13,
     "metadata": {},
     "output_type": "execute_result"
    },
    {
     "data": {
      "image/png": "[encoded data removed]",
      "text/plain": [
       "<Figure size 1296x576 with 1 Axes>"
      ]
     },
     "metadata": {},
     "output_type": "display_data"
    }
   ],
   "source": [
    "df1['NYMEX Crude Oil'].plot(label='NYMEX CRUDE OIL', figsize = (18,8), title = 'Petrol Prices In India',lw=3)\n",
    "# df['MCX Crude Oil'].plot(label='MCX Crude OIl')\n",
    "df1['USDINR'].plot(label='USDINR',lw=3)\n",
    "df1['Mumbai'].plot(label='Mumbai Petrol Prices',lw=3)\n",
    "df1['Delhi'].plot(label='Delhi Petrol Prices',lw=3)\n",
    "df1['Chenni'].plot(label='Chenni Petrol Prices',lw=3)\n",
    "df1['Kolkata'].plot(label='Kolkata Petrol Prices',lw=3)\n",
    "plt.legend()"
   ]
  },
  {
   "cell_type": "code",
   "execution_count": 14,
   "metadata": {},
   "outputs": [],
   "source": [
    "NYMEX_Declined = df1['NYMEX Crude Oil'].max()"
   ]
  },
  {
   "cell_type": "code",
   "execution_count": 15,
   "metadata": {},
   "outputs": [],
   "source": [
    "dec=(76.25-56.14)/76.25*100"
   ]
  },
  {
   "cell_type": "code",
   "execution_count": 16,
   "metadata": {},
   "outputs": [
    {
     "data": {
      "text/plain": [
       "26.373770491803278"
      ]
     },
     "execution_count": 16,
     "metadata": {},
     "output_type": "execute_result"
    }
   ],
   "source": [
    "dec"
   ]
  },
  {
   "cell_type": "code",
   "execution_count": 17,
   "metadata": {},
   "outputs": [
    {
     "data": {
      "text/plain": [
       "91.34"
      ]
     },
     "execution_count": 17,
     "metadata": {},
     "output_type": "execute_result"
    }
   ],
   "source": [
    "df1['Mumbai'].max()"
   ]
  },
  {
   "cell_type": "code",
   "execution_count": 18,
   "metadata": {},
   "outputs": [
    {
     "data": {
      "text/plain": [
       "-9.196409021239331"
      ]
     },
     "execution_count": 18,
     "metadata": {},
     "output_type": "execute_result"
    }
   ],
   "source": [
    "(82.94-91.34)/91.34*100"
   ]
  },
  {
   "cell_type": "code",
   "execution_count": 19,
   "metadata": {},
   "outputs": [],
   "source": [
    "df2 = df1.pct_change()"
   ]
  },
  {
   "cell_type": "code",
   "execution_count": 20,
   "metadata": {},
   "outputs": [
    {
     "data": {
      "text/html": [
       "<div>\n",
       "<style scoped>\n",
       "    .dataframe tbody tr th:only-of-type {\n",
       "        vertical-align: middle;\n",
       "    }\n",
       "\n",
       "    .dataframe tbody tr th {\n",
       "        vertical-align: top;\n",
       "    }\n",
       "\n",
       "    .dataframe thead th {\n",
       "        text-align: right;\n",
       "    }\n",
       "</style>\n",
       "<table border=\"1\" class=\"dataframe\">\n",
       "  <thead>\n",
       "    <tr style=\"text-align: right;\">\n",
       "      <th></th>\n",
       "      <th>NYMEX Crude Oil</th>\n",
       "      <th>MCX Crude Oil</th>\n",
       "      <th>USDINR</th>\n",
       "      <th>Delhi</th>\n",
       "      <th>Mumbai</th>\n",
       "      <th>Chenni</th>\n",
       "      <th>Kolkata</th>\n",
       "    </tr>\n",
       "    <tr>\n",
       "      <th>Date</th>\n",
       "      <th></th>\n",
       "      <th></th>\n",
       "      <th></th>\n",
       "      <th></th>\n",
       "      <th></th>\n",
       "      <th></th>\n",
       "      <th></th>\n",
       "    </tr>\n",
       "  </thead>\n",
       "  <tbody>\n",
       "    <tr>\n",
       "      <th>2017-06-16</th>\n",
       "      <td>NaN</td>\n",
       "      <td>NaN</td>\n",
       "      <td>NaN</td>\n",
       "      <td>NaN</td>\n",
       "      <td>NaN</td>\n",
       "      <td>NaN</td>\n",
       "      <td>NaN</td>\n",
       "    </tr>\n",
       "    <tr>\n",
       "      <th>2017-06-17</th>\n",
       "      <td>0.000000</td>\n",
       "      <td>0.000000</td>\n",
       "      <td>0.000000</td>\n",
       "      <td>-0.003818</td>\n",
       "      <td>-0.003129</td>\n",
       "      <td>-0.003822</td>\n",
       "      <td>-0.002793</td>\n",
       "    </tr>\n",
       "    <tr>\n",
       "      <th>2017-06-18</th>\n",
       "      <td>0.000000</td>\n",
       "      <td>0.000000</td>\n",
       "      <td>0.000000</td>\n",
       "      <td>-0.004906</td>\n",
       "      <td>-0.004185</td>\n",
       "      <td>-0.005018</td>\n",
       "      <td>-0.003833</td>\n",
       "    </tr>\n",
       "    <tr>\n",
       "      <th>2017-06-19</th>\n",
       "      <td>-0.012461</td>\n",
       "      <td>-0.006252</td>\n",
       "      <td>-0.000349</td>\n",
       "      <td>-0.004006</td>\n",
       "      <td>-0.003415</td>\n",
       "      <td>-0.004153</td>\n",
       "      <td>-0.003107</td>\n",
       "    </tr>\n",
       "    <tr>\n",
       "      <th>2017-06-20</th>\n",
       "      <td>-0.020054</td>\n",
       "      <td>-0.016777</td>\n",
       "      <td>0.001047</td>\n",
       "      <td>-0.001547</td>\n",
       "      <td>-0.001318</td>\n",
       "      <td>-0.001489</td>\n",
       "      <td>-0.001039</td>\n",
       "    </tr>\n",
       "  </tbody>\n",
       "</table>\n",
       "</div>"
      ],
      "text/plain": [
       "            NYMEX Crude Oil  MCX Crude Oil    USDINR     Delhi    Mumbai  \\\n",
       "Date                                                                       \n",
       "2017-06-16              NaN            NaN       NaN       NaN       NaN   \n",
       "2017-06-17         0.000000       0.000000  0.000000 -0.003818 -0.003129   \n",
       "2017-06-18         0.000000       0.000000  0.000000 -0.004906 -0.004185   \n",
       "2017-06-19        -0.012461      -0.006252 -0.000349 -0.004006 -0.003415   \n",
       "2017-06-20        -0.020054      -0.016777  0.001047 -0.001547 -0.001318   \n",
       "\n",
       "              Chenni   Kolkata  \n",
       "Date                            \n",
       "2017-06-16       NaN       NaN  \n",
       "2017-06-17 -0.003822 -0.002793  \n",
       "2017-06-18 -0.005018 -0.003833  \n",
       "2017-06-19 -0.004153 -0.003107  \n",
       "2017-06-20 -0.001489 -0.001039  "
      ]
     },
     "execution_count": 20,
     "metadata": {},
     "output_type": "execute_result"
    }
   ],
   "source": [
    "df2.head()"
   ]
  },
  {
   "cell_type": "code",
   "execution_count": 21,
   "metadata": {},
   "outputs": [],
   "source": [
    "df3 = df2.dropna()"
   ]
  },
  {
   "cell_type": "code",
   "execution_count": 22,
   "metadata": {},
   "outputs": [
    {
     "data": {
      "text/html": [
       "<div>\n",
       "<style scoped>\n",
       "    .dataframe tbody tr th:only-of-type {\n",
       "        vertical-align: middle;\n",
       "    }\n",
       "\n",
       "    .dataframe tbody tr th {\n",
       "        vertical-align: top;\n",
       "    }\n",
       "\n",
       "    .dataframe thead th {\n",
       "        text-align: right;\n",
       "    }\n",
       "</style>\n",
       "<table border=\"1\" class=\"dataframe\">\n",
       "  <thead>\n",
       "    <tr style=\"text-align: right;\">\n",
       "      <th></th>\n",
       "      <th>NYMEX Crude Oil</th>\n",
       "      <th>MCX Crude Oil</th>\n",
       "      <th>USDINR</th>\n",
       "      <th>Delhi</th>\n",
       "      <th>Mumbai</th>\n",
       "      <th>Chenni</th>\n",
       "      <th>Kolkata</th>\n",
       "    </tr>\n",
       "    <tr>\n",
       "      <th>Date</th>\n",
       "      <th></th>\n",
       "      <th></th>\n",
       "      <th></th>\n",
       "      <th></th>\n",
       "      <th></th>\n",
       "      <th></th>\n",
       "      <th></th>\n",
       "    </tr>\n",
       "  </thead>\n",
       "  <tbody>\n",
       "    <tr>\n",
       "      <th>2017-12-31</th>\n",
       "      <td>51.329045</td>\n",
       "      <td>3305.502513</td>\n",
       "      <td>64.603317</td>\n",
       "      <td>67.950503</td>\n",
       "      <td>76.621256</td>\n",
       "      <td>70.447085</td>\n",
       "      <td>70.804472</td>\n",
       "    </tr>\n",
       "    <tr>\n",
       "      <th>2018-12-31</th>\n",
       "      <td>66.728233</td>\n",
       "      <td>4570.230284</td>\n",
       "      <td>68.117216</td>\n",
       "      <td>76.113249</td>\n",
       "      <td>83.525773</td>\n",
       "      <td>79.011356</td>\n",
       "      <td>78.680126</td>\n",
       "    </tr>\n",
       "  </tbody>\n",
       "</table>\n",
       "</div>"
      ],
      "text/plain": [
       "            NYMEX Crude Oil  MCX Crude Oil     USDINR      Delhi     Mumbai  \\\n",
       "Date                                                                          \n",
       "2017-12-31        51.329045    3305.502513  64.603317  67.950503  76.621256   \n",
       "2018-12-31        66.728233    4570.230284  68.117216  76.113249  83.525773   \n",
       "\n",
       "               Chenni    Kolkata  \n",
       "Date                              \n",
       "2017-12-31  70.447085  70.804472  \n",
       "2018-12-31  79.011356  78.680126  "
      ]
     },
     "execution_count": 22,
     "metadata": {},
     "output_type": "execute_result"
    }
   ],
   "source": [
    "#df3.resample(rule='A').mean()    # Year end Frequency\n",
    "df1.resample(rule='A').mean()"
   ]
  },
  {
   "cell_type": "code",
   "execution_count": 23,
   "metadata": {},
   "outputs": [
    {
     "data": {
      "text/html": [
       "<div>\n",
       "<style scoped>\n",
       "    .dataframe tbody tr th:only-of-type {\n",
       "        vertical-align: middle;\n",
       "    }\n",
       "\n",
       "    .dataframe tbody tr th {\n",
       "        vertical-align: top;\n",
       "    }\n",
       "\n",
       "    .dataframe thead th {\n",
       "        text-align: right;\n",
       "    }\n",
       "</style>\n",
       "<table border=\"1\" class=\"dataframe\">\n",
       "  <thead>\n",
       "    <tr style=\"text-align: right;\">\n",
       "      <th></th>\n",
       "      <th>NYMEX Crude Oil</th>\n",
       "      <th>MCX Crude Oil</th>\n",
       "      <th>USDINR</th>\n",
       "      <th>Delhi</th>\n",
       "      <th>Mumbai</th>\n",
       "      <th>Chenni</th>\n",
       "      <th>Kolkata</th>\n",
       "    </tr>\n",
       "    <tr>\n",
       "      <th>Date</th>\n",
       "      <th></th>\n",
       "      <th></th>\n",
       "      <th></th>\n",
       "      <th></th>\n",
       "      <th></th>\n",
       "      <th></th>\n",
       "      <th></th>\n",
       "    </tr>\n",
       "  </thead>\n",
       "  <tbody>\n",
       "    <tr>\n",
       "      <th>2017-06-30</th>\n",
       "      <td>44.075333</td>\n",
       "      <td>2839.866667</td>\n",
       "      <td>64.585833</td>\n",
       "      <td>64.199333</td>\n",
       "      <td>75.436667</td>\n",
       "      <td>66.670667</td>\n",
       "      <td>67.022667</td>\n",
       "    </tr>\n",
       "    <tr>\n",
       "      <th>2017-07-31</th>\n",
       "      <td>46.697097</td>\n",
       "      <td>3007.483871</td>\n",
       "      <td>64.574032</td>\n",
       "      <td>64.018710</td>\n",
       "      <td>73.960000</td>\n",
       "      <td>66.464839</td>\n",
       "      <td>67.280000</td>\n",
       "    </tr>\n",
       "    <tr>\n",
       "      <th>2017-08-31</th>\n",
       "      <td>48.341613</td>\n",
       "      <td>3085.741935</td>\n",
       "      <td>64.078065</td>\n",
       "      <td>67.770968</td>\n",
       "      <td>76.905806</td>\n",
       "      <td>70.205484</td>\n",
       "      <td>70.608387</td>\n",
       "    </tr>\n",
       "    <tr>\n",
       "      <th>2017-09-30</th>\n",
       "      <td>49.857333</td>\n",
       "      <td>3198.200000</td>\n",
       "      <td>64.516917</td>\n",
       "      <td>70.211333</td>\n",
       "      <td>79.322000</td>\n",
       "      <td>72.777333</td>\n",
       "      <td>72.955000</td>\n",
       "    </tr>\n",
       "    <tr>\n",
       "      <th>2017-10-31</th>\n",
       "      <td>51.760323</td>\n",
       "      <td>3363.580645</td>\n",
       "      <td>65.190726</td>\n",
       "      <td>68.742258</td>\n",
       "      <td>76.505161</td>\n",
       "      <td>71.233548</td>\n",
       "      <td>71.516774</td>\n",
       "    </tr>\n",
       "    <tr>\n",
       "      <th>2017-11-30</th>\n",
       "      <td>56.877333</td>\n",
       "      <td>3683.300000</td>\n",
       "      <td>64.962000</td>\n",
       "      <td>69.532333</td>\n",
       "      <td>76.660667</td>\n",
       "      <td>72.065333</td>\n",
       "      <td>72.288667</td>\n",
       "    </tr>\n",
       "    <tr>\n",
       "      <th>2017-12-31</th>\n",
       "      <td>58.081935</td>\n",
       "      <td>3728.741935</td>\n",
       "      <td>64.315403</td>\n",
       "      <td>69.366452</td>\n",
       "      <td>77.035484</td>\n",
       "      <td>71.890645</td>\n",
       "      <td>72.125161</td>\n",
       "    </tr>\n",
       "    <tr>\n",
       "      <th>2018-01-31</th>\n",
       "      <td>63.536774</td>\n",
       "      <td>4042.483871</td>\n",
       "      <td>63.728871</td>\n",
       "      <td>71.375161</td>\n",
       "      <td>79.257419</td>\n",
       "      <td>74.006129</td>\n",
       "      <td>74.099677</td>\n",
       "    </tr>\n",
       "    <tr>\n",
       "      <th>2018-02-28</th>\n",
       "      <td>62.080714</td>\n",
       "      <td>4013.785714</td>\n",
       "      <td>64.501875</td>\n",
       "      <td>72.517500</td>\n",
       "      <td>80.386786</td>\n",
       "      <td>75.208571</td>\n",
       "      <td>75.228214</td>\n",
       "    </tr>\n",
       "    <tr>\n",
       "      <th>2018-03-31</th>\n",
       "      <td>62.860000</td>\n",
       "      <td>4091.967742</td>\n",
       "      <td>65.144839</td>\n",
       "      <td>72.442903</td>\n",
       "      <td>80.312581</td>\n",
       "      <td>75.128710</td>\n",
       "      <td>75.176129</td>\n",
       "    </tr>\n",
       "    <tr>\n",
       "      <th>2018-04-30</th>\n",
       "      <td>66.242000</td>\n",
       "      <td>4358.866667</td>\n",
       "      <td>65.744833</td>\n",
       "      <td>74.163000</td>\n",
       "      <td>82.014667</td>\n",
       "      <td>76.940000</td>\n",
       "      <td>76.866333</td>\n",
       "    </tr>\n",
       "    <tr>\n",
       "      <th>2018-05-31</th>\n",
       "      <td>69.776129</td>\n",
       "      <td>4719.967742</td>\n",
       "      <td>67.600645</td>\n",
       "      <td>75.922258</td>\n",
       "      <td>83.758065</td>\n",
       "      <td>78.791613</td>\n",
       "      <td>78.595484</td>\n",
       "    </tr>\n",
       "    <tr>\n",
       "      <th>2018-06-30</th>\n",
       "      <td>66.988000</td>\n",
       "      <td>4569.033333</td>\n",
       "      <td>67.857250</td>\n",
       "      <td>76.603667</td>\n",
       "      <td>84.352667</td>\n",
       "      <td>79.508667</td>\n",
       "      <td>79.268667</td>\n",
       "    </tr>\n",
       "    <tr>\n",
       "      <th>2018-07-31</th>\n",
       "      <td>69.817742</td>\n",
       "      <td>4863.225806</td>\n",
       "      <td>68.797581</td>\n",
       "      <td>76.303226</td>\n",
       "      <td>83.714516</td>\n",
       "      <td>79.219355</td>\n",
       "      <td>79.049032</td>\n",
       "    </tr>\n",
       "    <tr>\n",
       "      <th>2018-08-31</th>\n",
       "      <td>67.268387</td>\n",
       "      <td>4719.870968</td>\n",
       "      <td>69.646371</td>\n",
       "      <td>77.333548</td>\n",
       "      <td>84.764194</td>\n",
       "      <td>80.336452</td>\n",
       "      <td>80.269032</td>\n",
       "    </tr>\n",
       "    <tr>\n",
       "      <th>2018-09-30</th>\n",
       "      <td>69.900667</td>\n",
       "      <td>5064.166667</td>\n",
       "      <td>72.203333</td>\n",
       "      <td>81.382667</td>\n",
       "      <td>88.763667</td>\n",
       "      <td>84.588667</td>\n",
       "      <td>83.610000</td>\n",
       "    </tr>\n",
       "    <tr>\n",
       "      <th>2018-10-31</th>\n",
       "      <td>70.686452</td>\n",
       "      <td>5219.548387</td>\n",
       "      <td>73.674677</td>\n",
       "      <td>81.923871</td>\n",
       "      <td>87.637097</td>\n",
       "      <td>85.148710</td>\n",
       "      <td>83.759355</td>\n",
       "    </tr>\n",
       "    <tr>\n",
       "      <th>2018-11-30</th>\n",
       "      <td>61.412308</td>\n",
       "      <td>4557.384615</td>\n",
       "      <td>72.812308</td>\n",
       "      <td>78.353846</td>\n",
       "      <td>83.857692</td>\n",
       "      <td>81.390769</td>\n",
       "      <td>80.265385</td>\n",
       "    </tr>\n",
       "  </tbody>\n",
       "</table>\n",
       "</div>"
      ],
      "text/plain": [
       "            NYMEX Crude Oil  MCX Crude Oil     USDINR      Delhi     Mumbai  \\\n",
       "Date                                                                          \n",
       "2017-06-30        44.075333    2839.866667  64.585833  64.199333  75.436667   \n",
       "2017-07-31        46.697097    3007.483871  64.574032  64.018710  73.960000   \n",
       "2017-08-31        48.341613    3085.741935  64.078065  67.770968  76.905806   \n",
       "2017-09-30        49.857333    3198.200000  64.516917  70.211333  79.322000   \n",
       "2017-10-31        51.760323    3363.580645  65.190726  68.742258  76.505161   \n",
       "2017-11-30        56.877333    3683.300000  64.962000  69.532333  76.660667   \n",
       "2017-12-31        58.081935    3728.741935  64.315403  69.366452  77.035484   \n",
       "2018-01-31        63.536774    4042.483871  63.728871  71.375161  79.257419   \n",
       "2018-02-28        62.080714    4013.785714  64.501875  72.517500  80.386786   \n",
       "2018-03-31        62.860000    4091.967742  65.144839  72.442903  80.312581   \n",
       "2018-04-30        66.242000    4358.866667  65.744833  74.163000  82.014667   \n",
       "2018-05-31        69.776129    4719.967742  67.600645  75.922258  83.758065   \n",
       "2018-06-30        66.988000    4569.033333  67.857250  76.603667  84.352667   \n",
       "2018-07-31        69.817742    4863.225806  68.797581  76.303226  83.714516   \n",
       "2018-08-31        67.268387    4719.870968  69.646371  77.333548  84.764194   \n",
       "2018-09-30        69.900667    5064.166667  72.203333  81.382667  88.763667   \n",
       "2018-10-31        70.686452    5219.548387  73.674677  81.923871  87.637097   \n",
       "2018-11-30        61.412308    4557.384615  72.812308  78.353846  83.857692   \n",
       "\n",
       "               Chenni    Kolkata  \n",
       "Date                              \n",
       "2017-06-30  66.670667  67.022667  \n",
       "2017-07-31  66.464839  67.280000  \n",
       "2017-08-31  70.205484  70.608387  \n",
       "2017-09-30  72.777333  72.955000  \n",
       "2017-10-31  71.233548  71.516774  \n",
       "2017-11-30  72.065333  72.288667  \n",
       "2017-12-31  71.890645  72.125161  \n",
       "2018-01-31  74.006129  74.099677  \n",
       "2018-02-28  75.208571  75.228214  \n",
       "2018-03-31  75.128710  75.176129  \n",
       "2018-04-30  76.940000  76.866333  \n",
       "2018-05-31  78.791613  78.595484  \n",
       "2018-06-30  79.508667  79.268667  \n",
       "2018-07-31  79.219355  79.049032  \n",
       "2018-08-31  80.336452  80.269032  \n",
       "2018-09-30  84.588667  83.610000  \n",
       "2018-10-31  85.148710  83.759355  \n",
       "2018-11-30  81.390769  80.265385  "
      ]
     },
     "execution_count": 23,
     "metadata": {},
     "output_type": "execute_result"
    }
   ],
   "source": [
    "df1.resample(rule='M').mean()   # Month end Frequency"
   ]
  },
  {
   "cell_type": "code",
   "execution_count": 24,
   "metadata": {},
   "outputs": [
    {
     "data": {
      "text/html": [
       "<div>\n",
       "<style scoped>\n",
       "    .dataframe tbody tr th:only-of-type {\n",
       "        vertical-align: middle;\n",
       "    }\n",
       "\n",
       "    .dataframe tbody tr th {\n",
       "        vertical-align: top;\n",
       "    }\n",
       "\n",
       "    .dataframe thead th {\n",
       "        text-align: right;\n",
       "    }\n",
       "</style>\n",
       "<table border=\"1\" class=\"dataframe\">\n",
       "  <thead>\n",
       "    <tr style=\"text-align: right;\">\n",
       "      <th></th>\n",
       "      <th>NYMEX Crude Oil</th>\n",
       "      <th>MCX Crude Oil</th>\n",
       "      <th>USDINR</th>\n",
       "      <th>Delhi</th>\n",
       "      <th>Mumbai</th>\n",
       "      <th>Chenni</th>\n",
       "      <th>Kolkata</th>\n",
       "    </tr>\n",
       "    <tr>\n",
       "      <th>Date</th>\n",
       "      <th></th>\n",
       "      <th></th>\n",
       "      <th></th>\n",
       "      <th></th>\n",
       "      <th></th>\n",
       "      <th></th>\n",
       "      <th></th>\n",
       "    </tr>\n",
       "  </thead>\n",
       "  <tbody>\n",
       "    <tr>\n",
       "      <th>2017-06-30</th>\n",
       "      <td>44.075333</td>\n",
       "      <td>2839.866667</td>\n",
       "      <td>64.585833</td>\n",
       "      <td>64.199333</td>\n",
       "      <td>75.436667</td>\n",
       "      <td>66.670667</td>\n",
       "      <td>67.022667</td>\n",
       "    </tr>\n",
       "    <tr>\n",
       "      <th>2017-09-30</th>\n",
       "      <td>48.281739</td>\n",
       "      <td>3096.043478</td>\n",
       "      <td>64.388288</td>\n",
       "      <td>67.302391</td>\n",
       "      <td>76.701087</td>\n",
       "      <td>69.783696</td>\n",
       "      <td>70.252065</td>\n",
       "    </tr>\n",
       "    <tr>\n",
       "      <th>2017-12-31</th>\n",
       "      <td>55.559022</td>\n",
       "      <td>3590.880435</td>\n",
       "      <td>64.821196</td>\n",
       "      <td>69.210217</td>\n",
       "      <td>76.734565</td>\n",
       "      <td>71.726196</td>\n",
       "      <td>71.973478</td>\n",
       "    </tr>\n",
       "    <tr>\n",
       "      <th>2018-03-31</th>\n",
       "      <td>62.850667</td>\n",
       "      <td>4050.600000</td>\n",
       "      <td>64.457083</td>\n",
       "      <td>72.098333</td>\n",
       "      <td>79.972222</td>\n",
       "      <td>74.766889</td>\n",
       "      <td>74.821556</td>\n",
       "    </tr>\n",
       "    <tr>\n",
       "      <th>2018-06-30</th>\n",
       "      <td>67.691868</td>\n",
       "      <td>4551.164835</td>\n",
       "      <td>67.073434</td>\n",
       "      <td>75.566923</td>\n",
       "      <td>83.379341</td>\n",
       "      <td>78.417582</td>\n",
       "      <td>78.247363</td>\n",
       "    </tr>\n",
       "    <tr>\n",
       "      <th>2018-09-30</th>\n",
       "      <td>68.985761</td>\n",
       "      <td>4880.445652</td>\n",
       "      <td>70.194158</td>\n",
       "      <td>78.306739</td>\n",
       "      <td>85.714674</td>\n",
       "      <td>81.346630</td>\n",
       "      <td>80.947391</td>\n",
       "    </tr>\n",
       "    <tr>\n",
       "      <th>2018-12-31</th>\n",
       "      <td>67.946364</td>\n",
       "      <td>5023.909091</td>\n",
       "      <td>73.419886</td>\n",
       "      <td>80.869091</td>\n",
       "      <td>86.520455</td>\n",
       "      <td>84.038409</td>\n",
       "      <td>82.727045</td>\n",
       "    </tr>\n",
       "  </tbody>\n",
       "</table>\n",
       "</div>"
      ],
      "text/plain": [
       "            NYMEX Crude Oil  MCX Crude Oil     USDINR      Delhi     Mumbai  \\\n",
       "Date                                                                          \n",
       "2017-06-30        44.075333    2839.866667  64.585833  64.199333  75.436667   \n",
       "2017-09-30        48.281739    3096.043478  64.388288  67.302391  76.701087   \n",
       "2017-12-31        55.559022    3590.880435  64.821196  69.210217  76.734565   \n",
       "2018-03-31        62.850667    4050.600000  64.457083  72.098333  79.972222   \n",
       "2018-06-30        67.691868    4551.164835  67.073434  75.566923  83.379341   \n",
       "2018-09-30        68.985761    4880.445652  70.194158  78.306739  85.714674   \n",
       "2018-12-31        67.946364    5023.909091  73.419886  80.869091  86.520455   \n",
       "\n",
       "               Chenni    Kolkata  \n",
       "Date                              \n",
       "2017-06-30  66.670667  67.022667  \n",
       "2017-09-30  69.783696  70.252065  \n",
       "2017-12-31  71.726196  71.973478  \n",
       "2018-03-31  74.766889  74.821556  \n",
       "2018-06-30  78.417582  78.247363  \n",
       "2018-09-30  81.346630  80.947391  \n",
       "2018-12-31  84.038409  82.727045  "
      ]
     },
     "execution_count": 24,
     "metadata": {},
     "output_type": "execute_result"
    }
   ],
   "source": [
    "df1.resample(rule='Q').mean()  "
   ]
  },
  {
   "cell_type": "code",
   "execution_count": 25,
   "metadata": {},
   "outputs": [
    {
     "data": {
      "image/png": "[encoded data removed]",
      "text/plain": [
       "<Figure size 720x720 with 9 Axes>"
      ]
     },
     "metadata": {},
     "output_type": "display_data"
    }
   ],
   "source": [
    "df3.hist(figsize=(10,10),bins=50);"
   ]
  },
  {
   "cell_type": "code",
   "execution_count": 26,
   "metadata": {},
   "outputs": [
    {
     "data": {
      "text/plain": [
       "<matplotlib.axes._subplots.AxesSubplot at 0x246f7aafba8>"
      ]
     },
     "execution_count": 26,
     "metadata": {},
     "output_type": "execute_result"
    },
    {
     "data": {
      "image/png": "[encoded data removed]",
      "text/plain": [
       "<Figure size 432x288 with 1 Axes>"
      ]
     },
     "metadata": {},
     "output_type": "display_data"
    }
   ],
   "source": [
    "df1['Mumbai'].plot.hist(bins=50)"
   ]
  },
  {
   "cell_type": "code",
   "execution_count": 27,
   "metadata": {},
   "outputs": [
    {
     "data": {
      "text/plain": [
       "<matplotlib.axes._subplots.AxesSubplot at 0x246f832fb38>"
      ]
     },
     "execution_count": 27,
     "metadata": {},
     "output_type": "execute_result"
    },
    {
     "data": {
      "image/png": "[encoded data removed]",
      "text/plain": [
       "<Figure size 432x288 with 1 Axes>"
      ]
     },
     "metadata": {},
     "output_type": "display_data"
    }
   ],
   "source": [
    "df1['NYMEX Crude Oil'].plot.hist(bins=50)"
   ]
  },
  {
   "cell_type": "code",
   "execution_count": 28,
   "metadata": {},
   "outputs": [
    {
     "data": {
      "text/plain": [
       "<matplotlib.legend.Legend at 0x246f812ad30>"
      ]
     },
     "execution_count": 28,
     "metadata": {},
     "output_type": "execute_result"
    },
    {
     "data": {
      "image/png": "[encoded data removed]",
      "text/plain": [
       "<Figure size 1152x720 with 2 Axes>"
      ]
     },
     "metadata": {},
     "output_type": "display_data"
    }
   ],
   "source": [
    "df1.plot.scatter(x='Mumbai',y='NYMEX Crude Oil',c='USDINR',cmap='coolwarm',figsize=(16,10), label=['Mumbai','NYMEX Crude Oil','USDINR'])\n",
    "plt.legend()"
   ]
  },
  {
   "cell_type": "code",
   "execution_count": 29,
   "metadata": {},
   "outputs": [
    {
     "data": {
      "text/plain": [
       "<matplotlib.axes._subplots.AxesSubplot at 0x246f8101978>"
      ]
     },
     "execution_count": 29,
     "metadata": {},
     "output_type": "execute_result"
    },
    {
     "data": {
      "image/png": "[encoded data removed]",
      "text/plain": [
       "<Figure size 720x576 with 1 Axes>"
      ]
     },
     "metadata": {},
     "output_type": "display_data"
    }
   ],
   "source": [
    "df1[['NYMEX Crude Oil','USDINR','Mumbai']].plot.box(figsize=(10,8))"
   ]
  },
  {
   "cell_type": "code",
   "execution_count": 30,
   "metadata": {},
   "outputs": [
    {
     "data": {
      "text/plain": [
       "<matplotlib.axes._subplots.AxesSubplot at 0x246f95363c8>"
      ]
     },
     "execution_count": 30,
     "metadata": {},
     "output_type": "execute_result"
    },
    {
     "data": {
      "image/png": "[encoded data removed]",
      "text/plain": [
       "<Figure size 432x288 with 1 Axes>"
      ]
     },
     "metadata": {},
     "output_type": "display_data"
    }
   ],
   "source": [
    "df1.plot.scatter(x='NYMEX Crude Oil',y='Mumbai')"
   ]
  },
  {
   "cell_type": "code",
   "execution_count": 31,
   "metadata": {},
   "outputs": [
    {
     "data": {
      "text/plain": [
       "<matplotlib.axes._subplots.AxesSubplot at 0x246f9563048>"
      ]
     },
     "execution_count": 31,
     "metadata": {},
     "output_type": "execute_result"
    },
    {
     "data": {
      "image/png": "[encoded data removed]",
      "text/plain": [
       "<Figure size 432x288 with 1 Axes>"
      ]
     },
     "metadata": {},
     "output_type": "display_data"
    }
   ],
   "source": [
    "df1['Mumbai'].plot.kde(lw=5,ls='--')"
   ]
  },
  {
   "cell_type": "code",
   "execution_count": 32,
   "metadata": {},
   "outputs": [
    {
     "data": {
      "text/plain": [
       "<matplotlib.axes._subplots.AxesSubplot at 0x246f9dc8048>"
      ]
     },
     "execution_count": 32,
     "metadata": {},
     "output_type": "execute_result"
    },
    {
     "data": {
      "image/png": "[encoded data removed]",
      "text/plain": [
       "<Figure size 720x432 with 1 Axes>"
      ]
     },
     "metadata": {},
     "output_type": "display_data"
    }
   ],
   "source": [
    "df1[['NYMEX Crude Oil','USDINR','Mumbai']].plot.density(lw=5,figsize=(10,6))"
   ]
  },
  {
   "cell_type": "code",
   "execution_count": 33,
   "metadata": {},
   "outputs": [
    {
     "data": {
      "image/png": "[encoded data removed]",
      "text/plain": [
       "<Figure size 1152x720 with 9 Axes>"
      ]
     },
     "metadata": {},
     "output_type": "display_data"
    }
   ],
   "source": [
    "df3.hist(bins=50, figsize=(16,10));"
   ]
  },
  {
   "cell_type": "code",
   "execution_count": 34,
   "metadata": {},
   "outputs": [
    {
     "data": {
      "text/plain": [
       "<matplotlib.legend.Legend at 0x246fa011390>"
      ]
     },
     "execution_count": 34,
     "metadata": {},
     "output_type": "execute_result"
    },
    {
     "data": {
      "image/png": "[encoded data removed]",
      "text/plain": [
       "<Figure size 720x432 with 1 Axes>"
      ]
     },
     "metadata": {},
     "output_type": "display_data"
    }
   ],
   "source": [
    "df3['NYMEX Crude Oil'].hist(bins=50,label=\"NYMEX Crude Oil\", figsize=(10,6), alpha=0.6)\n",
    "df3['Mumbai'].hist(bins=50,label=\"Mumbai\", alpha=0.6)\n",
    "df3['USDINR'].hist(bins=50, label='USDINR', alpha=0.6)\n",
    "plt.legend()"
   ]
  },
  {
   "cell_type": "code",
   "execution_count": 35,
   "metadata": {},
   "outputs": [
    {
     "data": {
      "text/plain": [
       "<matplotlib.legend.Legend at 0x246f9df6c88>"
      ]
     },
     "execution_count": 35,
     "metadata": {},
     "output_type": "execute_result"
    },
    {
     "data": {
      "image/png": "[encoded data removed]",
      "text/plain": [
       "<Figure size 864x432 with 1 Axes>"
      ]
     },
     "metadata": {},
     "output_type": "display_data"
    }
   ],
   "source": [
    "df3['NYMEX Crude Oil'].plot(kind='kde',label=\"NYMEX Crude Oil\", figsize=(12,6))\n",
    "df3['Mumbai'].plot(kind='kde',label=\"Mumbai\")\n",
    "df3['USDINR'].plot(kind='kde', label='USDINR')\n",
    "plt.legend()"
   ]
  },
  {
   "cell_type": "code",
   "execution_count": 36,
   "metadata": {},
   "outputs": [
    {
     "data": {
      "text/plain": [
       "<matplotlib.axes._subplots.AxesSubplot at 0x246fa56e278>"
      ]
     },
     "execution_count": 36,
     "metadata": {},
     "output_type": "execute_result"
    },
    {
     "data": {
      "image/png": "[encoded data removed]",
      "text/plain": [
       "<Figure size 576x792 with 1 Axes>"
      ]
     },
     "metadata": {},
     "output_type": "display_data"
    }
   ],
   "source": [
    "box_df = pd.concat([df3['NYMEX Crude Oil'],df3['Mumbai'],df3['USDINR']],axis=1)\n",
    "box_df.columns = ['NYMEX Crude Oil','Mumbai','USDINR']\n",
    "box_df.plot(kind='box',figsize=(8,11),colormap='jet')"
   ]
  },
  {
   "cell_type": "code",
   "execution_count": 37,
   "metadata": {},
   "outputs": [
    {
     "data": {
      "image/png": "[encoded data removed]",
      "text/plain": [
       "<Figure size 1152x576 with 9 Axes>"
      ]
     },
     "metadata": {},
     "output_type": "display_data"
    }
   ],
   "source": [
    "from pandas.plotting import scatter_matrix\n",
    "scatter_matrix(box_df,figsize=(16,8),alpha=0.8,hist_kwds={'bins':50});"
   ]
  },
  {
   "cell_type": "code",
   "execution_count": 38,
   "metadata": {},
   "outputs": [],
   "source": [
    "# Model Bulding"
   ]
  },
  {
   "cell_type": "code",
   "execution_count": 39,
   "metadata": {},
   "outputs": [],
   "source": [
    "XC = df1.iloc[:,0:3]\n",
    "yc = df1.iloc[:,5:6]"
   ]
  },
  {
   "cell_type": "code",
   "execution_count": 40,
   "metadata": {},
   "outputs": [
    {
     "data": {
      "text/html": [
       "<div>\n",
       "<style scoped>\n",
       "    .dataframe tbody tr th:only-of-type {\n",
       "        vertical-align: middle;\n",
       "    }\n",
       "\n",
       "    .dataframe tbody tr th {\n",
       "        vertical-align: top;\n",
       "    }\n",
       "\n",
       "    .dataframe thead th {\n",
       "        text-align: right;\n",
       "    }\n",
       "</style>\n",
       "<table border=\"1\" class=\"dataframe\">\n",
       "  <thead>\n",
       "    <tr style=\"text-align: right;\">\n",
       "      <th></th>\n",
       "      <th>NYMEX Crude Oil</th>\n",
       "      <th>MCX Crude Oil</th>\n",
       "      <th>USDINR</th>\n",
       "    </tr>\n",
       "    <tr>\n",
       "      <th>Date</th>\n",
       "      <th></th>\n",
       "      <th></th>\n",
       "      <th></th>\n",
       "    </tr>\n",
       "  </thead>\n",
       "  <tbody>\n",
       "    <tr>\n",
       "      <th>2017-06-16</th>\n",
       "      <td>44.94</td>\n",
       "      <td>2879</td>\n",
       "      <td>64.5200</td>\n",
       "    </tr>\n",
       "    <tr>\n",
       "      <th>2017-06-17</th>\n",
       "      <td>44.94</td>\n",
       "      <td>2879</td>\n",
       "      <td>64.5200</td>\n",
       "    </tr>\n",
       "    <tr>\n",
       "      <th>2017-06-18</th>\n",
       "      <td>44.94</td>\n",
       "      <td>2879</td>\n",
       "      <td>64.5200</td>\n",
       "    </tr>\n",
       "    <tr>\n",
       "      <th>2017-06-19</th>\n",
       "      <td>44.38</td>\n",
       "      <td>2861</td>\n",
       "      <td>64.4975</td>\n",
       "    </tr>\n",
       "    <tr>\n",
       "      <th>2017-06-20</th>\n",
       "      <td>43.49</td>\n",
       "      <td>2813</td>\n",
       "      <td>64.5650</td>\n",
       "    </tr>\n",
       "  </tbody>\n",
       "</table>\n",
       "</div>"
      ],
      "text/plain": [
       "            NYMEX Crude Oil  MCX Crude Oil   USDINR\n",
       "Date                                               \n",
       "2017-06-16            44.94           2879  64.5200\n",
       "2017-06-17            44.94           2879  64.5200\n",
       "2017-06-18            44.94           2879  64.5200\n",
       "2017-06-19            44.38           2861  64.4975\n",
       "2017-06-20            43.49           2813  64.5650"
      ]
     },
     "execution_count": 40,
     "metadata": {},
     "output_type": "execute_result"
    }
   ],
   "source": [
    "XC.head()"
   ]
  },
  {
   "cell_type": "code",
   "execution_count": 41,
   "metadata": {},
   "outputs": [
    {
     "data": {
      "text/html": [
       "<div>\n",
       "<style scoped>\n",
       "    .dataframe tbody tr th:only-of-type {\n",
       "        vertical-align: middle;\n",
       "    }\n",
       "\n",
       "    .dataframe tbody tr th {\n",
       "        vertical-align: top;\n",
       "    }\n",
       "\n",
       "    .dataframe thead th {\n",
       "        text-align: right;\n",
       "    }\n",
       "</style>\n",
       "<table border=\"1\" class=\"dataframe\">\n",
       "  <thead>\n",
       "    <tr style=\"text-align: right;\">\n",
       "      <th></th>\n",
       "      <th>Chenni</th>\n",
       "    </tr>\n",
       "    <tr>\n",
       "      <th>Date</th>\n",
       "      <th></th>\n",
       "    </tr>\n",
       "  </thead>\n",
       "  <tbody>\n",
       "    <tr>\n",
       "      <th>2017-06-16</th>\n",
       "      <td>68.02</td>\n",
       "    </tr>\n",
       "    <tr>\n",
       "      <th>2017-06-17</th>\n",
       "      <td>67.76</td>\n",
       "    </tr>\n",
       "    <tr>\n",
       "      <th>2017-06-18</th>\n",
       "      <td>67.42</td>\n",
       "    </tr>\n",
       "    <tr>\n",
       "      <th>2017-06-19</th>\n",
       "      <td>67.14</td>\n",
       "    </tr>\n",
       "    <tr>\n",
       "      <th>2017-06-20</th>\n",
       "      <td>67.04</td>\n",
       "    </tr>\n",
       "  </tbody>\n",
       "</table>\n",
       "</div>"
      ],
      "text/plain": [
       "            Chenni\n",
       "Date              \n",
       "2017-06-16   68.02\n",
       "2017-06-17   67.76\n",
       "2017-06-18   67.42\n",
       "2017-06-19   67.14\n",
       "2017-06-20   67.04"
      ]
     },
     "execution_count": 41,
     "metadata": {},
     "output_type": "execute_result"
    }
   ],
   "source": [
    "yc.head()"
   ]
  },
  {
   "cell_type": "code",
   "execution_count": 42,
   "metadata": {},
   "outputs": [],
   "source": [
    "XM = df1.iloc[:,0:3]\n",
    "ym = df1.iloc[:,4:5]"
   ]
  },
  {
   "cell_type": "code",
   "execution_count": 43,
   "metadata": {},
   "outputs": [
    {
     "data": {
      "text/html": [
       "<div>\n",
       "<style scoped>\n",
       "    .dataframe tbody tr th:only-of-type {\n",
       "        vertical-align: middle;\n",
       "    }\n",
       "\n",
       "    .dataframe tbody tr th {\n",
       "        vertical-align: top;\n",
       "    }\n",
       "\n",
       "    .dataframe thead th {\n",
       "        text-align: right;\n",
       "    }\n",
       "</style>\n",
       "<table border=\"1\" class=\"dataframe\">\n",
       "  <thead>\n",
       "    <tr style=\"text-align: right;\">\n",
       "      <th></th>\n",
       "      <th>Mumbai</th>\n",
       "    </tr>\n",
       "    <tr>\n",
       "      <th>Date</th>\n",
       "      <th></th>\n",
       "    </tr>\n",
       "  </thead>\n",
       "  <tbody>\n",
       "    <tr>\n",
       "      <th>2017-06-16</th>\n",
       "      <td>76.70</td>\n",
       "    </tr>\n",
       "    <tr>\n",
       "      <th>2017-06-17</th>\n",
       "      <td>76.46</td>\n",
       "    </tr>\n",
       "    <tr>\n",
       "      <th>2017-06-18</th>\n",
       "      <td>76.14</td>\n",
       "    </tr>\n",
       "    <tr>\n",
       "      <th>2017-06-19</th>\n",
       "      <td>75.88</td>\n",
       "    </tr>\n",
       "    <tr>\n",
       "      <th>2017-06-20</th>\n",
       "      <td>75.78</td>\n",
       "    </tr>\n",
       "  </tbody>\n",
       "</table>\n",
       "</div>"
      ],
      "text/plain": [
       "            Mumbai\n",
       "Date              \n",
       "2017-06-16   76.70\n",
       "2017-06-17   76.46\n",
       "2017-06-18   76.14\n",
       "2017-06-19   75.88\n",
       "2017-06-20   75.78"
      ]
     },
     "execution_count": 43,
     "metadata": {},
     "output_type": "execute_result"
    }
   ],
   "source": [
    "ym.head()"
   ]
  },
  {
   "cell_type": "code",
   "execution_count": 44,
   "metadata": {},
   "outputs": [],
   "source": [
    "XD = df1.iloc[:,0:3]\n",
    "yd = df1.iloc[:,3:4]"
   ]
  },
  {
   "cell_type": "code",
   "execution_count": 45,
   "metadata": {},
   "outputs": [
    {
     "data": {
      "text/html": [
       "<div>\n",
       "<style scoped>\n",
       "    .dataframe tbody tr th:only-of-type {\n",
       "        vertical-align: middle;\n",
       "    }\n",
       "\n",
       "    .dataframe tbody tr th {\n",
       "        vertical-align: top;\n",
       "    }\n",
       "\n",
       "    .dataframe thead th {\n",
       "        text-align: right;\n",
       "    }\n",
       "</style>\n",
       "<table border=\"1\" class=\"dataframe\">\n",
       "  <thead>\n",
       "    <tr style=\"text-align: right;\">\n",
       "      <th></th>\n",
       "      <th>Delhi</th>\n",
       "    </tr>\n",
       "    <tr>\n",
       "      <th>Date</th>\n",
       "      <th></th>\n",
       "    </tr>\n",
       "  </thead>\n",
       "  <tbody>\n",
       "    <tr>\n",
       "      <th>2017-06-16</th>\n",
       "      <td>65.48</td>\n",
       "    </tr>\n",
       "    <tr>\n",
       "      <th>2017-06-17</th>\n",
       "      <td>65.23</td>\n",
       "    </tr>\n",
       "    <tr>\n",
       "      <th>2017-06-18</th>\n",
       "      <td>64.91</td>\n",
       "    </tr>\n",
       "    <tr>\n",
       "      <th>2017-06-19</th>\n",
       "      <td>64.65</td>\n",
       "    </tr>\n",
       "    <tr>\n",
       "      <th>2017-06-20</th>\n",
       "      <td>64.55</td>\n",
       "    </tr>\n",
       "  </tbody>\n",
       "</table>\n",
       "</div>"
      ],
      "text/plain": [
       "            Delhi\n",
       "Date             \n",
       "2017-06-16  65.48\n",
       "2017-06-17  65.23\n",
       "2017-06-18  64.91\n",
       "2017-06-19  64.65\n",
       "2017-06-20  64.55"
      ]
     },
     "execution_count": 45,
     "metadata": {},
     "output_type": "execute_result"
    }
   ],
   "source": [
    "yd.head()"
   ]
  },
  {
   "cell_type": "code",
   "execution_count": 46,
   "metadata": {},
   "outputs": [],
   "source": [
    "from sklearn import linear_model\n",
    "from sklearn.ensemble import RandomForestClassifier\n",
    "from sklearn.model_selection import train_test_split\n",
    "from sklearn.decomposition import PCA,TruncatedSVD\n",
    "\n"
   ]
  },
  {
   "cell_type": "code",
   "execution_count": 47,
   "metadata": {},
   "outputs": [],
   "source": [
    "reg = linear_model.LinearRegression()\n",
    "X_train, X_test, y_train, y_test = train_test_split(XD, yd, test_size = 0.2, random_state = 4)"
   ]
  },
  {
   "cell_type": "code",
   "execution_count": 48,
   "metadata": {},
   "outputs": [
    {
     "data": {
      "text/plain": [
       "LinearRegression(copy_X=True, fit_intercept=True, n_jobs=None,\n",
       "         normalize=False)"
      ]
     },
     "execution_count": 48,
     "metadata": {},
     "output_type": "execute_result"
    }
   ],
   "source": [
    "reg.fit(X_train, y_train)"
   ]
  },
  {
   "cell_type": "code",
   "execution_count": 49,
   "metadata": {},
   "outputs": [
    {
     "data": {
      "text/plain": [
       "0.9101640695552498"
      ]
     },
     "execution_count": 49,
     "metadata": {},
     "output_type": "execute_result"
    }
   ],
   "source": [
    "reg.score(X_test, y_test)"
   ]
  },
  {
   "cell_type": "code",
   "execution_count": 50,
   "metadata": {},
   "outputs": [
    {
     "data": {
      "text/plain": [
       "array([[ 1.01879783, -0.01053275,  1.56025948]])"
      ]
     },
     "execution_count": 50,
     "metadata": {},
     "output_type": "execute_result"
    }
   ],
   "source": [
    "reg.coef_"
   ]
  },
  {
   "cell_type": "code",
   "execution_count": 51,
   "metadata": {},
   "outputs": [
    {
     "data": {
      "text/plain": [
       "array([-50.16789175])"
      ]
     },
     "execution_count": 51,
     "metadata": {},
     "output_type": "execute_result"
    }
   ],
   "source": [
    "reg.intercept_"
   ]
  },
  {
   "cell_type": "code",
   "execution_count": 52,
   "metadata": {},
   "outputs": [
    {
     "data": {
      "text/plain": [
       "array([[77.02367357]])"
      ]
     },
     "execution_count": 52,
     "metadata": {},
     "output_type": "execute_result"
    }
   ],
   "source": [
    "reg.predict([[56.24, 4089,72.40]])"
   ]
  },
  {
   "cell_type": "code",
   "execution_count": 53,
   "metadata": {},
   "outputs": [],
   "source": [
    "#from sklearn import ensemble\n",
    "#from sklearn import datasets\n",
    "#from sklearn.utils import shuffle\n",
    "#from sklearn.metrics import mean_squared_error"
   ]
  },
  {
   "cell_type": "code",
   "execution_count": 54,
   "metadata": {},
   "outputs": [],
   "source": [
    "#params = {'n_estimators': 500, 'max_depth': 4, 'min_samples_split': 2,\n",
    "#          'learning_rate': 0.01, 'loss': 'ls'}\n",
    "#clf = ensemble.GradientBoostingRegressor(**params)"
   ]
  },
  {
   "cell_type": "code",
   "execution_count": 55,
   "metadata": {},
   "outputs": [],
   "source": [
    "#clf.fit(X_train, y_train)\n",
    "#mse = mean_squared_error(y_test, clf.predict(X_test))\n",
    "#print(\"MSE: %.4f\" % mse)"
   ]
  },
  {
   "cell_type": "code",
   "execution_count": 56,
   "metadata": {},
   "outputs": [],
   "source": [
    "#test_score = np.zeros((params['n_estimators'],), dtype=np.float64)"
   ]
  },
  {
   "cell_type": "markdown",
   "metadata": {},
   "source": [
    "# Support Vector Machines"
   ]
  },
  {
   "cell_type": "code",
   "execution_count": 57,
   "metadata": {},
   "outputs": [],
   "source": [
    "from sklearn import svm"
   ]
  },
  {
   "cell_type": "code",
   "execution_count": 58,
   "metadata": {},
   "outputs": [],
   "source": [
    "clf = svm.SVR()"
   ]
  },
  {
   "cell_type": "code",
   "execution_count": 59,
   "metadata": {},
   "outputs": [
    {
     "name": "stderr",
     "output_type": "stream",
     "text": [
      "C:\\Users\\SUNEEL\\Anaconda3\\lib\\site-packages\\sklearn\\utils\\validation.py:752: DataConversionWarning: A column-vector y was passed when a 1d array was expected. Please change the shape of y to (n_samples, ), for example using ravel().\n",
      "  y = column_or_1d(y, warn=True)\n",
      "C:\\Users\\SUNEEL\\Anaconda3\\lib\\site-packages\\sklearn\\svm\\base.py:196: FutureWarning: The default value of gamma will change from 'auto' to 'scale' in version 0.22 to account better for unscaled features. Set gamma explicitly to 'auto' or 'scale' to avoid this warning.\n",
      "  \"avoid this warning.\", FutureWarning)\n"
     ]
    },
    {
     "data": {
      "text/plain": [
       "SVR(C=1.0, cache_size=200, coef0=0.0, degree=3, epsilon=0.1,\n",
       "  gamma='auto_deprecated', kernel='rbf', max_iter=-1, shrinking=True,\n",
       "  tol=0.001, verbose=False)"
      ]
     },
     "execution_count": 59,
     "metadata": {},
     "output_type": "execute_result"
    }
   ],
   "source": [
    "clf.fit(X_train,y_train)"
   ]
  },
  {
   "cell_type": "code",
   "execution_count": 60,
   "metadata": {},
   "outputs": [
    {
     "data": {
      "text/plain": [
       "0.21435832914801534"
      ]
     },
     "execution_count": 60,
     "metadata": {},
     "output_type": "execute_result"
    }
   ],
   "source": [
    "clf.score(X_test,y_test)"
   ]
  },
  {
   "cell_type": "code",
   "execution_count": 61,
   "metadata": {},
   "outputs": [
    {
     "data": {
      "text/plain": [
       "0.4844924899803204"
      ]
     },
     "execution_count": 61,
     "metadata": {},
     "output_type": "execute_result"
    }
   ],
   "source": [
    "clf.score(X_train,y_train)"
   ]
  },
  {
   "cell_type": "code",
   "execution_count": 62,
   "metadata": {},
   "outputs": [
    {
     "data": {
      "text/plain": [
       "array([72.64179571])"
      ]
     },
     "execution_count": 62,
     "metadata": {},
     "output_type": "execute_result"
    }
   ],
   "source": [
    "clf.predict([[56.25,4046,72.19]])"
   ]
  },
  {
   "cell_type": "code",
   "execution_count": 63,
   "metadata": {},
   "outputs": [],
   "source": [
    "pred = clf.predict(X_test)"
   ]
  },
  {
   "cell_type": "code",
   "execution_count": null,
   "metadata": {},
   "outputs": [],
   "source": []
  },
  {
   "cell_type": "markdown",
   "metadata": {},
   "source": [
    "# RIDGE REGRESSION"
   ]
  },
  {
   "cell_type": "code",
   "execution_count": 64,
   "metadata": {},
   "outputs": [],
   "source": [
    "from sklearn import linear_model"
   ]
  },
  {
   "cell_type": "code",
   "execution_count": 65,
   "metadata": {},
   "outputs": [],
   "source": [
    "reg = linear_model.Ridge(alpha = 0.5)"
   ]
  },
  {
   "cell_type": "code",
   "execution_count": 66,
   "metadata": {},
   "outputs": [
    {
     "data": {
      "text/plain": [
       "Ridge(alpha=0.5, copy_X=True, fit_intercept=True, max_iter=None,\n",
       "   normalize=False, random_state=None, solver='auto', tol=0.001)"
      ]
     },
     "execution_count": 66,
     "metadata": {},
     "output_type": "execute_result"
    }
   ],
   "source": [
    "reg.fit(X_train,y_train)"
   ]
  },
  {
   "cell_type": "code",
   "execution_count": 67,
   "metadata": {},
   "outputs": [
    {
     "data": {
      "text/plain": [
       "array([[ 1.00129529, -0.01026676,  1.54121646]])"
      ]
     },
     "execution_count": 67,
     "metadata": {},
     "output_type": "execute_result"
    }
   ],
   "source": [
    "reg.coef_"
   ]
  },
  {
   "cell_type": "code",
   "execution_count": 68,
   "metadata": {},
   "outputs": [
    {
     "data": {
      "text/plain": [
       "array([-48.91816389])"
      ]
     },
     "execution_count": 68,
     "metadata": {},
     "output_type": "execute_result"
    }
   ],
   "source": [
    "reg.intercept_"
   ]
  },
  {
   "cell_type": "code",
   "execution_count": 76,
   "metadata": {},
   "outputs": [
    {
     "data": {
      "text/plain": [
       "array([[70.90625491]])"
      ]
     },
     "execution_count": 76,
     "metadata": {},
     "output_type": "execute_result"
    }
   ],
   "source": [
    "reg.predict([[42.94,3022,70.00]])"
   ]
  },
  {
   "cell_type": "code",
   "execution_count": 70,
   "metadata": {},
   "outputs": [],
   "source": [
    "# Setting the regularization parameter: generalized Cross-Validation"
   ]
  },
  {
   "cell_type": "code",
   "execution_count": 71,
   "metadata": {},
   "outputs": [],
   "source": [
    "from sklearn import linear_model"
   ]
  },
  {
   "cell_type": "code",
   "execution_count": 72,
   "metadata": {},
   "outputs": [],
   "source": [
    "reg = linear_model.RidgeCV(alphas=[0.1, 1.0, 10.0], cv=3)"
   ]
  },
  {
   "cell_type": "code",
   "execution_count": 73,
   "metadata": {},
   "outputs": [
    {
     "data": {
      "text/plain": [
       "RidgeCV(alphas=array([ 0.1,  1. , 10. ]), cv=3, fit_intercept=True,\n",
       "    gcv_mode=None, normalize=False, scoring=None, store_cv_values=False)"
      ]
     },
     "execution_count": 73,
     "metadata": {},
     "output_type": "execute_result"
    }
   ],
   "source": [
    "reg.fit(X_train,y_train)"
   ]
  },
  {
   "cell_type": "code",
   "execution_count": 74,
   "metadata": {},
   "outputs": [
    {
     "data": {
      "text/plain": [
       "1.0"
      ]
     },
     "execution_count": 74,
     "metadata": {},
     "output_type": "execute_result"
    }
   ],
   "source": [
    "reg.alpha_"
   ]
  },
  {
   "cell_type": "code",
   "execution_count": 77,
   "metadata": {},
   "outputs": [
    {
     "data": {
      "text/plain": [
       "array([[70.90625491]])"
      ]
     },
     "execution_count": 77,
     "metadata": {},
     "output_type": "execute_result"
    }
   ],
   "source": [
    "reg.predict([[42.94,3022,70.00]])"
   ]
  },
  {
   "cell_type": "markdown",
   "metadata": {},
   "source": [
    "# LASSO "
   ]
  },
  {
   "cell_type": "code",
   "execution_count": 78,
   "metadata": {},
   "outputs": [],
   "source": [
    "reg = linear_model.Lasso(alpha = 0.1)"
   ]
  },
  {
   "cell_type": "code",
   "execution_count": 79,
   "metadata": {},
   "outputs": [
    {
     "data": {
      "text/plain": [
       "Lasso(alpha=0.1, copy_X=True, fit_intercept=True, max_iter=1000,\n",
       "   normalize=False, positive=False, precompute=False, random_state=None,\n",
       "   selection='cyclic', tol=0.0001, warm_start=False)"
      ]
     },
     "execution_count": 79,
     "metadata": {},
     "output_type": "execute_result"
    }
   ],
   "source": [
    "reg.fit(X_train,y_train)"
   ]
  },
  {
   "cell_type": "code",
   "execution_count": 82,
   "metadata": {},
   "outputs": [
    {
     "data": {
      "text/plain": [
       "array([69.18033489])"
      ]
     },
     "execution_count": 82,
     "metadata": {},
     "output_type": "execute_result"
    }
   ],
   "source": [
    "reg.predict([[42.94,3022,70.00]])"
   ]
  },
  {
   "cell_type": "code",
   "execution_count": 81,
   "metadata": {},
   "outputs": [
    {
     "data": {
      "text/plain": [
       "0.9050546520738271"
      ]
     },
     "execution_count": 81,
     "metadata": {},
     "output_type": "execute_result"
    }
   ],
   "source": [
    "reg.score(X_train,y_train)"
   ]
  },
  {
   "cell_type": "markdown",
   "metadata": {},
   "source": [
    "# Bayes Ridge Regression "
   ]
  },
  {
   "cell_type": "code",
   "execution_count": 83,
   "metadata": {},
   "outputs": [],
   "source": [
    "from sklearn import linear_model"
   ]
  },
  {
   "cell_type": "code",
   "execution_count": 84,
   "metadata": {},
   "outputs": [],
   "source": [
    "reg = linear_model.BayesianRidge()"
   ]
  },
  {
   "cell_type": "code",
   "execution_count": 85,
   "metadata": {},
   "outputs": [
    {
     "name": "stderr",
     "output_type": "stream",
     "text": [
      "C:\\Users\\SUNEEL\\Anaconda3\\lib\\site-packages\\sklearn\\utils\\validation.py:752: DataConversionWarning: A column-vector y was passed when a 1d array was expected. Please change the shape of y to (n_samples, ), for example using ravel().\n",
      "  y = column_or_1d(y, warn=True)\n"
     ]
    },
    {
     "data": {
      "text/plain": [
       "BayesianRidge(alpha_1=1e-06, alpha_2=1e-06, compute_score=False, copy_X=True,\n",
       "       fit_intercept=True, lambda_1=1e-06, lambda_2=1e-06, n_iter=300,\n",
       "       normalize=False, tol=0.001, verbose=False)"
      ]
     },
     "execution_count": 85,
     "metadata": {},
     "output_type": "execute_result"
    }
   ],
   "source": [
    "reg.fit(X_train,y_train)"
   ]
  },
  {
   "cell_type": "code",
   "execution_count": 86,
   "metadata": {},
   "outputs": [
    {
     "data": {
      "text/plain": [
       "0.9127396283208139"
      ]
     },
     "execution_count": 86,
     "metadata": {},
     "output_type": "execute_result"
    }
   ],
   "source": [
    "reg.score(X_train,y_train)"
   ]
  },
  {
   "cell_type": "code",
   "execution_count": 87,
   "metadata": {},
   "outputs": [],
   "source": [
    "pred = reg.predict(X_test)"
   ]
  },
  {
   "cell_type": "code",
   "execution_count": 88,
   "metadata": {},
   "outputs": [
    {
     "data": {
      "text/plain": [
       "1.0"
      ]
     },
     "execution_count": 88,
     "metadata": {},
     "output_type": "execute_result"
    }
   ],
   "source": [
    "reg.score(X_test,pred)"
   ]
  },
  {
   "cell_type": "code",
   "execution_count": 89,
   "metadata": {},
   "outputs": [
    {
     "data": {
      "text/plain": [
       "array([70.84414685])"
      ]
     },
     "execution_count": 89,
     "metadata": {},
     "output_type": "execute_result"
    }
   ],
   "source": [
    "reg.predict([[42.94,3022,70.00]])"
   ]
  },
  {
   "cell_type": "code",
   "execution_count": 90,
   "metadata": {},
   "outputs": [
    {
     "data": {
      "text/plain": [
       "array([ 0.94930174, -0.00947658,  1.48463292])"
      ]
     },
     "execution_count": 90,
     "metadata": {},
     "output_type": "execute_result"
    }
   ],
   "source": [
    "reg.coef_"
   ]
  },
  {
   "cell_type": "markdown",
   "metadata": {},
   "source": [
    "# Gradient Boosting Regression"
   ]
  },
  {
   "cell_type": "code",
   "execution_count": 91,
   "metadata": {},
   "outputs": [],
   "source": [
    "from sklearn.metrics import mean_squared_error\n",
    "from sklearn.ensemble import GradientBoostingRegressor"
   ]
  },
  {
   "cell_type": "code",
   "execution_count": 92,
   "metadata": {},
   "outputs": [
    {
     "name": "stderr",
     "output_type": "stream",
     "text": [
      "C:\\Users\\SUNEEL\\Anaconda3\\lib\\site-packages\\sklearn\\utils\\validation.py:752: DataConversionWarning: A column-vector y was passed when a 1d array was expected. Please change the shape of y to (n_samples, ), for example using ravel().\n",
      "  y = column_or_1d(y, warn=True)\n"
     ]
    },
    {
     "data": {
      "text/plain": [
       "GradientBoostingRegressor(alpha=0.9, criterion='friedman_mse', init=None,\n",
       "             learning_rate=0.1, loss='ls', max_depth=1, max_features=None,\n",
       "             max_leaf_nodes=None, min_impurity_decrease=0.0,\n",
       "             min_impurity_split=None, min_samples_leaf=1,\n",
       "             min_samples_split=2, min_weight_fraction_leaf=0.0,\n",
       "             n_estimators=100, n_iter_no_change=None, presort='auto',\n",
       "             random_state=0, subsample=1.0, tol=0.0001,\n",
       "             validation_fraction=0.1, verbose=0, warm_start=False)"
      ]
     },
     "execution_count": 92,
     "metadata": {},
     "output_type": "execute_result"
    }
   ],
   "source": [
    "est = GradientBoostingRegressor(n_estimators=100, learning_rate=0.1,max_depth=1, random_state=0, loss='ls')\n",
    "est.fit(X_train, y_train)"
   ]
  },
  {
   "cell_type": "code",
   "execution_count": 93,
   "metadata": {},
   "outputs": [
    {
     "data": {
      "text/plain": [
       "1.2270681961515617"
      ]
     },
     "execution_count": 93,
     "metadata": {},
     "output_type": "execute_result"
    }
   ],
   "source": [
    "mean_squared_error(y_test, est.predict(X_test)) "
   ]
  },
  {
   "cell_type": "code",
   "execution_count": 94,
   "metadata": {},
   "outputs": [
    {
     "data": {
      "text/plain": [
       "0.958972233316479"
      ]
     },
     "execution_count": 94,
     "metadata": {},
     "output_type": "execute_result"
    }
   ],
   "source": [
    "est.score(X_train,y_train)"
   ]
  },
  {
   "cell_type": "code",
   "execution_count": 95,
   "metadata": {},
   "outputs": [
    {
     "data": {
      "text/plain": [
       "array([67.73773234])"
      ]
     },
     "execution_count": 95,
     "metadata": {},
     "output_type": "execute_result"
    }
   ],
   "source": [
    "est.predict([[42.94,3022,70.00]])"
   ]
  },
  {
   "cell_type": "code",
   "execution_count": 96,
   "metadata": {},
   "outputs": [
    {
     "data": {
      "text/html": [
       "<div>\n",
       "<style scoped>\n",
       "    .dataframe tbody tr th:only-of-type {\n",
       "        vertical-align: middle;\n",
       "    }\n",
       "\n",
       "    .dataframe tbody tr th {\n",
       "        vertical-align: top;\n",
       "    }\n",
       "\n",
       "    .dataframe thead th {\n",
       "        text-align: right;\n",
       "    }\n",
       "</style>\n",
       "<table border=\"1\" class=\"dataframe\">\n",
       "  <thead>\n",
       "    <tr style=\"text-align: right;\">\n",
       "      <th></th>\n",
       "      <th>NYMEX Crude Oil</th>\n",
       "      <th>MCX Crude Oil</th>\n",
       "      <th>USDINR</th>\n",
       "      <th>Delhi</th>\n",
       "      <th>Mumbai</th>\n",
       "      <th>Chenni</th>\n",
       "      <th>Kolkata</th>\n",
       "    </tr>\n",
       "    <tr>\n",
       "      <th>Date</th>\n",
       "      <th></th>\n",
       "      <th></th>\n",
       "      <th></th>\n",
       "      <th></th>\n",
       "      <th></th>\n",
       "      <th></th>\n",
       "      <th></th>\n",
       "    </tr>\n",
       "  </thead>\n",
       "  <tbody>\n",
       "    <tr>\n",
       "      <th>2017-06-16</th>\n",
       "      <td>44.94</td>\n",
       "      <td>2879</td>\n",
       "      <td>64.5200</td>\n",
       "      <td>65.48</td>\n",
       "      <td>76.70</td>\n",
       "      <td>68.02</td>\n",
       "      <td>68.03</td>\n",
       "    </tr>\n",
       "    <tr>\n",
       "      <th>2017-06-17</th>\n",
       "      <td>44.94</td>\n",
       "      <td>2879</td>\n",
       "      <td>64.5200</td>\n",
       "      <td>65.23</td>\n",
       "      <td>76.46</td>\n",
       "      <td>67.76</td>\n",
       "      <td>67.84</td>\n",
       "    </tr>\n",
       "    <tr>\n",
       "      <th>2017-06-18</th>\n",
       "      <td>44.94</td>\n",
       "      <td>2879</td>\n",
       "      <td>64.5200</td>\n",
       "      <td>64.91</td>\n",
       "      <td>76.14</td>\n",
       "      <td>67.42</td>\n",
       "      <td>67.58</td>\n",
       "    </tr>\n",
       "    <tr>\n",
       "      <th>2017-06-19</th>\n",
       "      <td>44.38</td>\n",
       "      <td>2861</td>\n",
       "      <td>64.4975</td>\n",
       "      <td>64.65</td>\n",
       "      <td>75.88</td>\n",
       "      <td>67.14</td>\n",
       "      <td>67.37</td>\n",
       "    </tr>\n",
       "    <tr>\n",
       "      <th>2017-06-20</th>\n",
       "      <td>43.49</td>\n",
       "      <td>2813</td>\n",
       "      <td>64.5650</td>\n",
       "      <td>64.55</td>\n",
       "      <td>75.78</td>\n",
       "      <td>67.04</td>\n",
       "      <td>67.30</td>\n",
       "    </tr>\n",
       "  </tbody>\n",
       "</table>\n",
       "</div>"
      ],
      "text/plain": [
       "            NYMEX Crude Oil  MCX Crude Oil   USDINR  Delhi  Mumbai  Chenni  \\\n",
       "Date                                                                         \n",
       "2017-06-16            44.94           2879  64.5200  65.48   76.70   68.02   \n",
       "2017-06-17            44.94           2879  64.5200  65.23   76.46   67.76   \n",
       "2017-06-18            44.94           2879  64.5200  64.91   76.14   67.42   \n",
       "2017-06-19            44.38           2861  64.4975  64.65   75.88   67.14   \n",
       "2017-06-20            43.49           2813  64.5650  64.55   75.78   67.04   \n",
       "\n",
       "            Kolkata  \n",
       "Date                 \n",
       "2017-06-16    68.03  \n",
       "2017-06-17    67.84  \n",
       "2017-06-18    67.58  \n",
       "2017-06-19    67.37  \n",
       "2017-06-20    67.30  "
      ]
     },
     "execution_count": 96,
     "metadata": {},
     "output_type": "execute_result"
    }
   ],
   "source": [
    "df1.head()"
   ]
  },
  {
   "cell_type": "code",
   "execution_count": 97,
   "metadata": {},
   "outputs": [
    {
     "data": {
      "text/html": [
       "<div>\n",
       "<style scoped>\n",
       "    .dataframe tbody tr th:only-of-type {\n",
       "        vertical-align: middle;\n",
       "    }\n",
       "\n",
       "    .dataframe tbody tr th {\n",
       "        vertical-align: top;\n",
       "    }\n",
       "\n",
       "    .dataframe thead th {\n",
       "        text-align: right;\n",
       "    }\n",
       "</style>\n",
       "<table border=\"1\" class=\"dataframe\">\n",
       "  <thead>\n",
       "    <tr style=\"text-align: right;\">\n",
       "      <th></th>\n",
       "      <th>NYMEX Crude Oil</th>\n",
       "      <th>MCX Crude Oil</th>\n",
       "      <th>USDINR</th>\n",
       "      <th>Delhi</th>\n",
       "      <th>Mumbai</th>\n",
       "      <th>Chenni</th>\n",
       "      <th>Kolkata</th>\n",
       "    </tr>\n",
       "    <tr>\n",
       "      <th>Date</th>\n",
       "      <th></th>\n",
       "      <th></th>\n",
       "      <th></th>\n",
       "      <th></th>\n",
       "      <th></th>\n",
       "      <th></th>\n",
       "      <th></th>\n",
       "    </tr>\n",
       "  </thead>\n",
       "  <tbody>\n",
       "    <tr>\n",
       "      <th>2017-06-17</th>\n",
       "      <td>0.000000</td>\n",
       "      <td>0.000000</td>\n",
       "      <td>0.000000</td>\n",
       "      <td>-0.003818</td>\n",
       "      <td>-0.003129</td>\n",
       "      <td>-0.003822</td>\n",
       "      <td>-0.002793</td>\n",
       "    </tr>\n",
       "    <tr>\n",
       "      <th>2017-06-18</th>\n",
       "      <td>0.000000</td>\n",
       "      <td>0.000000</td>\n",
       "      <td>0.000000</td>\n",
       "      <td>-0.004906</td>\n",
       "      <td>-0.004185</td>\n",
       "      <td>-0.005018</td>\n",
       "      <td>-0.003833</td>\n",
       "    </tr>\n",
       "    <tr>\n",
       "      <th>2017-06-19</th>\n",
       "      <td>-0.012461</td>\n",
       "      <td>-0.006252</td>\n",
       "      <td>-0.000349</td>\n",
       "      <td>-0.004006</td>\n",
       "      <td>-0.003415</td>\n",
       "      <td>-0.004153</td>\n",
       "      <td>-0.003107</td>\n",
       "    </tr>\n",
       "    <tr>\n",
       "      <th>2017-06-20</th>\n",
       "      <td>-0.020054</td>\n",
       "      <td>-0.016777</td>\n",
       "      <td>0.001047</td>\n",
       "      <td>-0.001547</td>\n",
       "      <td>-0.001318</td>\n",
       "      <td>-0.001489</td>\n",
       "      <td>-0.001039</td>\n",
       "    </tr>\n",
       "    <tr>\n",
       "      <th>2017-06-21</th>\n",
       "      <td>-0.019545</td>\n",
       "      <td>-0.025595</td>\n",
       "      <td>0.000000</td>\n",
       "      <td>0.000000</td>\n",
       "      <td>0.000132</td>\n",
       "      <td>0.000000</td>\n",
       "      <td>0.000000</td>\n",
       "    </tr>\n",
       "  </tbody>\n",
       "</table>\n",
       "</div>"
      ],
      "text/plain": [
       "            NYMEX Crude Oil  MCX Crude Oil    USDINR     Delhi    Mumbai  \\\n",
       "Date                                                                       \n",
       "2017-06-17         0.000000       0.000000  0.000000 -0.003818 -0.003129   \n",
       "2017-06-18         0.000000       0.000000  0.000000 -0.004906 -0.004185   \n",
       "2017-06-19        -0.012461      -0.006252 -0.000349 -0.004006 -0.003415   \n",
       "2017-06-20        -0.020054      -0.016777  0.001047 -0.001547 -0.001318   \n",
       "2017-06-21        -0.019545      -0.025595  0.000000  0.000000  0.000132   \n",
       "\n",
       "              Chenni   Kolkata  \n",
       "Date                            \n",
       "2017-06-17 -0.003822 -0.002793  \n",
       "2017-06-18 -0.005018 -0.003833  \n",
       "2017-06-19 -0.004153 -0.003107  \n",
       "2017-06-20 -0.001489 -0.001039  \n",
       "2017-06-21  0.000000  0.000000  "
      ]
     },
     "execution_count": 97,
     "metadata": {},
     "output_type": "execute_result"
    }
   ],
   "source": [
    "df3.head()"
   ]
  },
  {
   "cell_type": "code",
   "execution_count": 160,
   "metadata": {},
   "outputs": [],
   "source": [
    "# SUNDAY Analysis"
   ]
  },
  {
   "cell_type": "code",
   "execution_count": 98,
   "metadata": {},
   "outputs": [],
   "source": [
    "sun = pd.read_csv(\"F:/ML Data Files/Petrol Prices  in India on Sunday Nov 2018.csv\")"
   ]
  },
  {
   "cell_type": "code",
   "execution_count": 99,
   "metadata": {},
   "outputs": [
    {
     "data": {
      "text/html": [
       "<div>\n",
       "<style scoped>\n",
       "    .dataframe tbody tr th:only-of-type {\n",
       "        vertical-align: middle;\n",
       "    }\n",
       "\n",
       "    .dataframe tbody tr th {\n",
       "        vertical-align: top;\n",
       "    }\n",
       "\n",
       "    .dataframe thead th {\n",
       "        text-align: right;\n",
       "    }\n",
       "</style>\n",
       "<table border=\"1\" class=\"dataframe\">\n",
       "  <thead>\n",
       "    <tr style=\"text-align: right;\">\n",
       "      <th></th>\n",
       "      <th>Abs Diff</th>\n",
       "      <th>Action</th>\n",
       "    </tr>\n",
       "  </thead>\n",
       "  <tbody>\n",
       "    <tr>\n",
       "      <th>0</th>\n",
       "      <td>-0.32</td>\n",
       "      <td>Decreased</td>\n",
       "    </tr>\n",
       "    <tr>\n",
       "      <th>1</th>\n",
       "      <td>-0.28</td>\n",
       "      <td>Decreased</td>\n",
       "    </tr>\n",
       "    <tr>\n",
       "      <th>2</th>\n",
       "      <td>-0.02</td>\n",
       "      <td>Decreased</td>\n",
       "    </tr>\n",
       "    <tr>\n",
       "      <th>3</th>\n",
       "      <td>0.19</td>\n",
       "      <td>Increased</td>\n",
       "    </tr>\n",
       "    <tr>\n",
       "      <th>4</th>\n",
       "      <td>0.08</td>\n",
       "      <td>Increased</td>\n",
       "    </tr>\n",
       "  </tbody>\n",
       "</table>\n",
       "</div>"
      ],
      "text/plain": [
       "   Abs Diff     Action\n",
       "0     -0.32  Decreased\n",
       "1     -0.28  Decreased\n",
       "2     -0.02  Decreased\n",
       "3      0.19  Increased\n",
       "4      0.08  Increased"
      ]
     },
     "execution_count": 99,
     "metadata": {},
     "output_type": "execute_result"
    }
   ],
   "source": [
    "sun.head()"
   ]
  },
  {
   "cell_type": "code",
   "execution_count": 100,
   "metadata": {},
   "outputs": [],
   "source": [
    "sun = pd.DataFrame(sun)"
   ]
  },
  {
   "cell_type": "code",
   "execution_count": 101,
   "metadata": {},
   "outputs": [
    {
     "name": "stdout",
     "output_type": "stream",
     "text": [
      "<class 'pandas.core.frame.DataFrame'>\n",
      "RangeIndex: 74 entries, 0 to 73\n",
      "Data columns (total 2 columns):\n",
      "Abs Diff    74 non-null float64\n",
      "Action      74 non-null object\n",
      "dtypes: float64(1), object(1)\n",
      "memory usage: 1.2+ KB\n"
     ]
    }
   ],
   "source": [
    "sun.info()"
   ]
  },
  {
   "cell_type": "code",
   "execution_count": 102,
   "metadata": {},
   "outputs": [
    {
     "data": {
      "text/plain": [
       "Increased    44\n",
       "Decreased    22\n",
       "Neutral       8\n",
       "Name: Action, dtype: int64"
      ]
     },
     "execution_count": 102,
     "metadata": {},
     "output_type": "execute_result"
    }
   ],
   "source": [
    "sun['Action'].value_counts()"
   ]
  },
  {
   "cell_type": "code",
   "execution_count": null,
   "metadata": {},
   "outputs": [],
   "source": []
  },
  {
   "cell_type": "code",
   "execution_count": 103,
   "metadata": {},
   "outputs": [],
   "source": [
    "import seaborn as sns\n",
    "sns.set(style=\"white\")\n",
    "sns.set(style=\"whitegrid\", color_codes=True)"
   ]
  },
  {
   "cell_type": "code",
   "execution_count": 104,
   "metadata": {},
   "outputs": [
    {
     "data": {
      "image/png": "[encoded data removed]",
      "text/plain": [
       "<Figure size 432x288 with 1 Axes>"
      ]
     },
     "metadata": {},
     "output_type": "display_data"
    },
    {
     "data": {
      "text/plain": [
       "<Figure size 432x288 with 0 Axes>"
      ]
     },
     "metadata": {},
     "output_type": "display_data"
    }
   ],
   "source": [
    "sns.countplot(x='Action', data= sun, palette = 'hls')\n",
    "plt.show()\n",
    "plt.savefig('count_plot')"
   ]
  },
  {
   "cell_type": "code",
   "execution_count": null,
   "metadata": {},
   "outputs": [],
   "source": []
  }
 ],
 "metadata": {
  "kernelspec": {
   "display_name": "Python 3",
   "language": "python",
   "name": "python3"
  },
  "language_info": {
   "codemirror_mode": {
    "name": "ipython",
    "version": 3
   },
   "file_extension": ".py",
   "mimetype": "text/x-python",
   "name": "python",
   "nbconvert_exporter": "python",
   "pygments_lexer": "ipython3",
   "version": "3.6.6"
  }
 },
 "nbformat": 4,
 "nbformat_minor": 2
}
